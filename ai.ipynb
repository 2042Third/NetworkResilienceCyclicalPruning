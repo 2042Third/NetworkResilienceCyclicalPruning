{
 "cells": [
  {
   "cell_type": "code",
   "execution_count": 1,
   "id": "0292700a",
   "metadata": {},
   "outputs": [],
   "source": [
    "import torch\n",
    "import numpy as np"
   ]
  },
  {
   "cell_type": "code",
   "execution_count": 2,
   "id": "6c0d0778",
   "metadata": {},
   "outputs": [],
   "source": [
    "def unpickle(file):\n",
    "    import pickle\n",
    "    with open(file, 'rb') as fo:\n",
    "        dict = pickle.load(fo, encoding='bytes')\n",
    "    return dict\n",
    "\n",
    "    \n",
    "    \n",
    "class cifarData:\n",
    "    label_dict = np.array([])\n",
    "    labels = np.array([])\n",
    "    data = np.array([])\n",
    "    \n",
    "    def _init_(self,label_dictIn,labelsIn,dataIn):\n",
    "        self.label_dict = label_dictIn\n",
    "        self.labels = labelsIn\n",
    "        self.data = data\n",
    "    # 1 to 10000\n",
    "    def getName(self, indx):\n",
    "        return self.label_dict[self.getLabel(indx)]\n",
    "    # 1 to 10000\n",
    "    def getData(self, indx):\n",
    "        return self.data[indx]\n",
    "    def getLabel(self, indx):\n",
    "        return self.labels[indx]\n",
    "        "
   ]
  },
  {
   "cell_type": "code",
   "execution_count": 3,
   "id": "ef82c21c",
   "metadata": {},
   "outputs": [],
   "source": [
    "cifar = unpickle(\"cifar-10-batches-py/test_batch\")\n",
    "dics = unpickle(\"cifar-10-batches-py/batches.meta\")\n",
    "labels = np.array(cifar[b'labels'])\n",
    "data   = np.array(cifar[b'data'])\n",
    "label_names = np.array(dics[b'label_names'])\n",
    "cf = cifarData()\n",
    "cf._init_(label_names,labels,data)\n"
   ]
  },
  {
   "cell_type": "code",
   "execution_count": 4,
   "id": "453b28ed",
   "metadata": {},
   "outputs": [
    {
     "data": {
      "text/plain": [
       "b'cat'"
      ]
     },
     "execution_count": 4,
     "metadata": {},
     "output_type": "execute_result"
    }
   ],
   "source": [
    "cf.getName(0)"
   ]
  },
  {
   "cell_type": "code",
   "execution_count": 9,
   "id": "b695584c",
   "metadata": {},
   "outputs": [],
   "source": [
    "\n",
    "from shrinkbench.experiment import PruningExperiment\n",
    "import os\n",
    "# os.environ['DATAPATH'] = '/Users/18604/iCloudDrive/courses/networkR/hw/data'\n",
    "os.environ['DATAPATH'] = '../data'\n",
    "\n",
    "\n",
    "\n",
    "from IPython.display import clear_output\n",
    "clear_output()\n",
    "\n"
   ]
  },
  {
   "cell_type": "code",
   "execution_count": null,
   "id": "962983c2",
   "metadata": {},
   "outputs": [],
   "source": [
    "\n",
    "def tvpgd(theta):\n",
    "    for t"
   ]
  },
  {
   "cell_type": "code",
   "execution_count": 13,
   "id": "7d3fde06",
   "metadata": {
    "scrolled": false
   },
   "outputs": [
    {
     "name": "stdout",
     "output_type": "stream",
     "text": [
      "Reaching 32\n"
     ]
    },
    {
     "ename": "AttributeError",
     "evalue": "module 'signal' has no attribute 'SIGQUIT'",
     "output_type": "error",
     "traceback": [
      "\u001b[1;31m---------------------------------------------------------------------------\u001b[0m",
      "\u001b[1;31mAttributeError\u001b[0m                            Traceback (most recent call last)",
      "Input \u001b[1;32mIn [13]\u001b[0m, in \u001b[0;36m<cell line: 1>\u001b[1;34m()\u001b[0m\n\u001b[0;32m      2\u001b[0m     \u001b[38;5;28;01mfor\u001b[39;00m  c \u001b[38;5;129;01min\u001b[39;00m [\u001b[38;5;241m32\u001b[39m,\u001b[38;5;241m64\u001b[39m]:\n\u001b[0;32m      3\u001b[0m \u001b[38;5;66;03m#     for  c in [1,2,4,8,16,32,64]:\u001b[39;00m\n\u001b[0;32m      4\u001b[0m         \u001b[38;5;28mprint\u001b[39m(\u001b[38;5;124m\"\u001b[39m\u001b[38;5;124mReaching \u001b[39m\u001b[38;5;132;01m%s\u001b[39;00m\u001b[38;5;124m\"\u001b[39m \u001b[38;5;241m%\u001b[39m(c))\n\u001b[1;32m----> 5\u001b[0m         exp \u001b[38;5;241m=\u001b[39m \u001b[43mPruningExperiment\u001b[49m\u001b[43m(\u001b[49m\u001b[43mdataset\u001b[49m\u001b[38;5;241;43m=\u001b[39;49m\u001b[38;5;124;43m'\u001b[39;49m\u001b[38;5;124;43mCIFAR10\u001b[39;49m\u001b[38;5;124;43m'\u001b[39;49m\u001b[43m,\u001b[49m\u001b[43m \u001b[49m\n\u001b[0;32m      6\u001b[0m \u001b[43m                                \u001b[49m\u001b[43mmodel\u001b[49m\u001b[38;5;241;43m=\u001b[39;49m\u001b[38;5;124;43m'\u001b[39;49m\u001b[38;5;124;43mMnistNet\u001b[39;49m\u001b[38;5;124;43m'\u001b[39;49m\u001b[43m,\u001b[49m\n\u001b[0;32m      7\u001b[0m \u001b[43m                                \u001b[49m\u001b[43mstrategy\u001b[49m\u001b[38;5;241;43m=\u001b[39;49m\u001b[43mstrategy\u001b[49m\u001b[43m,\u001b[49m\n\u001b[0;32m      8\u001b[0m \u001b[43m                                \u001b[49m\u001b[43mcompression\u001b[49m\u001b[38;5;241;43m=\u001b[39;49m\u001b[43mc\u001b[49m\u001b[43m,\u001b[49m\n\u001b[0;32m      9\u001b[0m \u001b[43m                                \u001b[49m\u001b[43mtrain_kwargs\u001b[49m\u001b[38;5;241;43m=\u001b[39;49m\u001b[43m{\u001b[49m\u001b[38;5;124;43m'\u001b[39;49m\u001b[38;5;124;43mepochs\u001b[39;49m\u001b[38;5;124;43m'\u001b[39;49m\u001b[43m:\u001b[49m\u001b[38;5;241;43m10\u001b[39;49m\u001b[43m}\u001b[49m\u001b[43m)\u001b[49m\n\u001b[0;32m     10\u001b[0m         exp\u001b[38;5;241m.\u001b[39mrun()\n\u001b[0;32m     11\u001b[0m         clear_output()\n",
      "File \u001b[1;32m~\\iCloudDrive\\courses\\networkR\\hw\\cyclicalpruning\\shrinkbench\\experiment\\prune.py:27\u001b[0m, in \u001b[0;36mPruningExperiment.__init__\u001b[1;34m(self, dataset, model, strategy, compression, seed, path, dl_kwargs, train_kwargs, debug, pretrained, resume, resume_optim, save_freq)\u001b[0m\n\u001b[0;32m     12\u001b[0m \u001b[38;5;28;01mdef\u001b[39;00m \u001b[38;5;21m__init__\u001b[39m(\u001b[38;5;28mself\u001b[39m,\n\u001b[0;32m     13\u001b[0m              dataset,\n\u001b[0;32m     14\u001b[0m              model,\n\u001b[1;32m   (...)\u001b[0m\n\u001b[0;32m     24\u001b[0m              resume_optim\u001b[38;5;241m=\u001b[39m\u001b[38;5;28;01mFalse\u001b[39;00m,\n\u001b[0;32m     25\u001b[0m              save_freq\u001b[38;5;241m=\u001b[39m\u001b[38;5;241m10\u001b[39m):\n\u001b[1;32m---> 27\u001b[0m     \u001b[38;5;28;43msuper\u001b[39;49m\u001b[43m(\u001b[49m\u001b[43mPruningExperiment\u001b[49m\u001b[43m,\u001b[49m\u001b[43m \u001b[49m\u001b[38;5;28;43mself\u001b[39;49m\u001b[43m)\u001b[49m\u001b[38;5;241;43m.\u001b[39;49m\u001b[38;5;21;43m__init__\u001b[39;49m\u001b[43m(\u001b[49m\u001b[43mdataset\u001b[49m\u001b[43m,\u001b[49m\u001b[43m \u001b[49m\u001b[43mmodel\u001b[49m\u001b[43m,\u001b[49m\u001b[43m \u001b[49m\u001b[43mseed\u001b[49m\u001b[43m,\u001b[49m\u001b[43m \u001b[49m\u001b[43mpath\u001b[49m\u001b[43m,\u001b[49m\u001b[43m \u001b[49m\u001b[43mdl_kwargs\u001b[49m\u001b[43m,\u001b[49m\u001b[43m \u001b[49m\u001b[43mtrain_kwargs\u001b[49m\u001b[43m,\u001b[49m\u001b[43m \u001b[49m\u001b[43mdebug\u001b[49m\u001b[43m,\u001b[49m\u001b[43m \u001b[49m\u001b[43mpretrained\u001b[49m\u001b[43m,\u001b[49m\u001b[43m \u001b[49m\u001b[43mresume\u001b[49m\u001b[43m,\u001b[49m\u001b[43m \u001b[49m\u001b[43mresume_optim\u001b[49m\u001b[43m,\u001b[49m\u001b[43m \u001b[49m\u001b[43msave_freq\u001b[49m\u001b[43m)\u001b[49m\n\u001b[0;32m     28\u001b[0m     \u001b[38;5;28mself\u001b[39m\u001b[38;5;241m.\u001b[39madd_params(strategy\u001b[38;5;241m=\u001b[39mstrategy, compression\u001b[38;5;241m=\u001b[39mcompression)\n\u001b[0;32m     30\u001b[0m     \u001b[38;5;28mself\u001b[39m\u001b[38;5;241m.\u001b[39mapply_pruning(strategy, compression)\n",
      "File \u001b[1;32m~\\iCloudDrive\\courses\\networkR\\hw\\cyclicalpruning\\shrinkbench\\experiment\\train.py:46\u001b[0m, in \u001b[0;36mTrainingExperiment.__init__\u001b[1;34m(self, dataset, model, seed, path, dl_kwargs, train_kwargs, debug, pretrained, resume, resume_optim, save_freq)\u001b[0m\n\u001b[0;32m     32\u001b[0m \u001b[38;5;28;01mdef\u001b[39;00m \u001b[38;5;21m__init__\u001b[39m(\u001b[38;5;28mself\u001b[39m,\n\u001b[0;32m     33\u001b[0m              dataset,\n\u001b[0;32m     34\u001b[0m              model,\n\u001b[1;32m   (...)\u001b[0m\n\u001b[0;32m     44\u001b[0m \n\u001b[0;32m     45\u001b[0m     \u001b[38;5;66;03m# Default children kwargs\u001b[39;00m\n\u001b[1;32m---> 46\u001b[0m     \u001b[38;5;28;43msuper\u001b[39;49m\u001b[43m(\u001b[49m\u001b[43mTrainingExperiment\u001b[49m\u001b[43m,\u001b[49m\u001b[43m \u001b[49m\u001b[38;5;28;43mself\u001b[39;49m\u001b[43m)\u001b[49m\u001b[38;5;241;43m.\u001b[39;49m\u001b[38;5;21;43m__init__\u001b[39;49m\u001b[43m(\u001b[49m\u001b[43mseed\u001b[49m\u001b[43m)\u001b[49m\n\u001b[0;32m     47\u001b[0m     dl_kwargs \u001b[38;5;241m=\u001b[39m {\u001b[38;5;241m*\u001b[39m\u001b[38;5;241m*\u001b[39m\u001b[38;5;28mself\u001b[39m\u001b[38;5;241m.\u001b[39mdefault_dl_kwargs, \u001b[38;5;241m*\u001b[39m\u001b[38;5;241m*\u001b[39mdl_kwargs}\n\u001b[0;32m     48\u001b[0m     train_kwargs \u001b[38;5;241m=\u001b[39m {\u001b[38;5;241m*\u001b[39m\u001b[38;5;241m*\u001b[39m\u001b[38;5;28mself\u001b[39m\u001b[38;5;241m.\u001b[39mdefault_train_kwargs, \u001b[38;5;241m*\u001b[39m\u001b[38;5;241m*\u001b[39mtrain_kwargs}\n",
      "File \u001b[1;32m~\\iCloudDrive\\courses\\networkR\\hw\\cyclicalpruning\\shrinkbench\\experiment\\base.py:26\u001b[0m, in \u001b[0;36mExperiment.__init__\u001b[1;34m(self, seed)\u001b[0m\n\u001b[0;32m     24\u001b[0m \u001b[38;5;28mself\u001b[39m\u001b[38;5;241m.\u001b[39mfrozen \u001b[38;5;241m=\u001b[39m \u001b[38;5;28;01mFalse\u001b[39;00m\n\u001b[0;32m     25\u001b[0m signal\u001b[38;5;241m.\u001b[39msignal(signal\u001b[38;5;241m.\u001b[39mSIGINT, \u001b[38;5;28mself\u001b[39m\u001b[38;5;241m.\u001b[39mSIGINT_handler)\n\u001b[1;32m---> 26\u001b[0m signal\u001b[38;5;241m.\u001b[39msignal(\u001b[43msignal\u001b[49m\u001b[38;5;241;43m.\u001b[39;49m\u001b[43mSIGQUIT\u001b[49m, \u001b[38;5;28mself\u001b[39m\u001b[38;5;241m.\u001b[39mSIGQUIT_handler)\n",
      "\u001b[1;31mAttributeError\u001b[0m: module 'signal' has no attribute 'SIGQUIT'"
     ]
    }
   ],
   "source": [
    "for strategy in ['RandomPruning', 'GlobalMagWeight', 'LayerMagWeight']:\n",
    "    for  c in [32,64]:\n",
    "#     for  c in [1,2,4,8,16,32,64]:\n",
    "        print(\"Reaching %s\" %(c))\n",
    "        exp = PruningExperiment(dataset='CIFAR10', \n",
    "                                model='MnistNet',\n",
    "                                strategy=strategy,\n",
    "                                compression=c,\n",
    "                                train_kwargs={'epochs':10})\n",
    "        exp.run()\n",
    "        clear_output()"
   ]
  },
  {
   "cell_type": "code",
   "execution_count": null,
   "id": "696aaa87",
   "metadata": {},
   "outputs": [],
   "source": []
  }
 ],
 "metadata": {
  "kernelspec": {
   "display_name": "Python 3 (ipykernel)",
   "language": "python",
   "name": "python3"
  },
  "language_info": {
   "codemirror_mode": {
    "name": "ipython",
    "version": 3
   },
   "file_extension": ".py",
   "mimetype": "text/x-python",
   "name": "python",
   "nbconvert_exporter": "python",
   "pygments_lexer": "ipython3",
   "version": "3.8.8"
  }
 },
 "nbformat": 4,
 "nbformat_minor": 5
}
