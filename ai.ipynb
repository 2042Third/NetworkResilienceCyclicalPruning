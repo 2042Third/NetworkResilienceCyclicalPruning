{
 "cells": [
  {
   "cell_type": "code",
   "execution_count": 16,
   "id": "0292700a",
   "metadata": {},
   "outputs": [],
   "source": [
    "import torch\n",
    "import numpy as np"
   ]
  },
  {
   "cell_type": "code",
   "execution_count": 37,
   "id": "6c0d0778",
   "metadata": {},
   "outputs": [],
   "source": [
    "def unpickle(file):\n",
    "    import pickle\n",
    "    with open(file, 'rb') as fo:\n",
    "        dict = pickle.load(fo, encoding='bytes')\n",
    "    return dict\n",
    "\n",
    "    \n",
    "    \n",
    "class cifarData:\n",
    "    label_dict = np.array([])\n",
    "    labels = np.array([])\n",
    "    data = np.array([])\n",
    "    \n",
    "    def _init_(self,label_dictIn,labelsIn,dataIn):\n",
    "        self.label_dict = label_dictIn\n",
    "        self.labels = labelsIn\n",
    "        self.data = data\n",
    "    # 1 to 10000\n",
    "    def getName(self, indx):\n",
    "        return self.label_dict[self.getLabel(indx)]\n",
    "    # 1 to 10000\n",
    "    def getData(self, indx):\n",
    "        return self.data[indx]\n",
    "    def getLabel(self, indx):\n",
    "        return self.labels[indx]\n",
    "        "
   ]
  },
  {
   "cell_type": "code",
   "execution_count": 38,
   "id": "ef82c21c",
   "metadata": {},
   "outputs": [],
   "source": [
    "cifar = unpickle(\"cifar-10-batches-py/test_batch\")\n",
    "dics = unpickle(\"cifar-10-batches-py/batches.meta\")\n",
    "labels = np.array(cifar[b'labels'])\n",
    "data   = np.array(cifar[b'data'])\n",
    "label_names = np.array(dics[b'label_names'])\n",
    "cf = cifarData()\n",
    "cf._init_(label_names,labels,data)\n"
   ]
  },
  {
   "cell_type": "code",
   "execution_count": 39,
   "id": "453b28ed",
   "metadata": {},
   "outputs": [
    {
     "data": {
      "text/plain": [
       "b'cat'"
      ]
     },
     "execution_count": 39,
     "metadata": {},
     "output_type": "execute_result"
    }
   ],
   "source": [
    "cf.getName(0)"
   ]
  },
  {
   "cell_type": "code",
   "execution_count": null,
   "id": "b695584c",
   "metadata": {},
   "outputs": [],
   "source": []
  }
 ],
 "metadata": {
  "kernelspec": {
   "display_name": "Python 3 (ipykernel)",
   "language": "python",
   "name": "python3"
  },
  "language_info": {
   "codemirror_mode": {
    "name": "ipython",
    "version": 3
   },
   "file_extension": ".py",
   "mimetype": "text/x-python",
   "name": "python",
   "nbconvert_exporter": "python",
   "pygments_lexer": "ipython3",
   "version": "3.8.8"
  }
 },
 "nbformat": 4,
 "nbformat_minor": 5
}
